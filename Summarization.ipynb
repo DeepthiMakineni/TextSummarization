{
 "cells": [
  {
   "cell_type": "code",
   "execution_count": 1,
   "metadata": {},
   "outputs": [
    {
     "name": "stdout",
     "output_type": "stream",
     "text": [
      "Requirement already satisfied: openai in /Users/saideepthimakineni/anaconda3/lib/python3.11/site-packages (0.28.0)\n",
      "Requirement already satisfied: transformers in /Users/saideepthimakineni/anaconda3/lib/python3.11/site-packages (4.32.1)\n",
      "Requirement already satisfied: torch in /Users/saideepthimakineni/anaconda3/lib/python3.11/site-packages (2.6.0)\n",
      "Requirement already satisfied: sentencepiece in /Users/saideepthimakineni/anaconda3/lib/python3.11/site-packages (0.2.0)\n",
      "Requirement already satisfied: requests>=2.20 in /Users/saideepthimakineni/anaconda3/lib/python3.11/site-packages (from openai) (2.31.0)\n",
      "Requirement already satisfied: tqdm in /Users/saideepthimakineni/anaconda3/lib/python3.11/site-packages (from openai) (4.65.0)\n",
      "Requirement already satisfied: aiohttp in /Users/saideepthimakineni/anaconda3/lib/python3.11/site-packages (from openai) (3.8.5)\n",
      "Requirement already satisfied: filelock in /Users/saideepthimakineni/anaconda3/lib/python3.11/site-packages (from transformers) (3.14.0)\n",
      "Requirement already satisfied: huggingface-hub<1.0,>=0.15.1 in /Users/saideepthimakineni/anaconda3/lib/python3.11/site-packages (from transformers) (0.29.3)\n",
      "Requirement already satisfied: numpy>=1.17 in /Users/saideepthimakineni/anaconda3/lib/python3.11/site-packages (from transformers) (1.24.3)\n",
      "Requirement already satisfied: packaging>=20.0 in /Users/saideepthimakineni/anaconda3/lib/python3.11/site-packages (from transformers) (23.1)\n",
      "Requirement already satisfied: pyyaml>=5.1 in /Users/saideepthimakineni/anaconda3/lib/python3.11/site-packages (from transformers) (6.0)\n",
      "Requirement already satisfied: regex!=2019.12.17 in /Users/saideepthimakineni/anaconda3/lib/python3.11/site-packages (from transformers) (2022.7.9)\n",
      "Requirement already satisfied: tokenizers!=0.11.3,<0.14,>=0.11.1 in /Users/saideepthimakineni/anaconda3/lib/python3.11/site-packages (from transformers) (0.13.3)\n",
      "Requirement already satisfied: safetensors>=0.3.1 in /Users/saideepthimakineni/anaconda3/lib/python3.11/site-packages (from transformers) (0.3.2)\n",
      "Requirement already satisfied: typing-extensions>=4.10.0 in /Users/saideepthimakineni/anaconda3/lib/python3.11/site-packages (from torch) (4.12.2)\n",
      "Requirement already satisfied: networkx in /Users/saideepthimakineni/anaconda3/lib/python3.11/site-packages (from torch) (3.1)\n",
      "Requirement already satisfied: jinja2 in /Users/saideepthimakineni/anaconda3/lib/python3.11/site-packages (from torch) (3.1.2)\n",
      "Requirement already satisfied: fsspec in /Users/saideepthimakineni/anaconda3/lib/python3.11/site-packages (from torch) (2025.3.0)\n",
      "Requirement already satisfied: sympy==1.13.1 in /Users/saideepthimakineni/anaconda3/lib/python3.11/site-packages (from torch) (1.13.1)\n",
      "Requirement already satisfied: mpmath<1.4,>=1.1.0 in /Users/saideepthimakineni/anaconda3/lib/python3.11/site-packages (from sympy==1.13.1->torch) (1.3.0)\n",
      "Requirement already satisfied: charset-normalizer<4,>=2 in /Users/saideepthimakineni/anaconda3/lib/python3.11/site-packages (from requests>=2.20->openai) (2.0.4)\n",
      "Requirement already satisfied: idna<4,>=2.5 in /Users/saideepthimakineni/anaconda3/lib/python3.11/site-packages (from requests>=2.20->openai) (3.4)\n",
      "Requirement already satisfied: urllib3<3,>=1.21.1 in /Users/saideepthimakineni/anaconda3/lib/python3.11/site-packages (from requests>=2.20->openai) (1.26.16)\n",
      "Requirement already satisfied: certifi>=2017.4.17 in /Users/saideepthimakineni/anaconda3/lib/python3.11/site-packages (from requests>=2.20->openai) (2024.12.14)\n",
      "Requirement already satisfied: attrs>=17.3.0 in /Users/saideepthimakineni/anaconda3/lib/python3.11/site-packages (from aiohttp->openai) (22.1.0)\n",
      "Requirement already satisfied: multidict<7.0,>=4.5 in /Users/saideepthimakineni/anaconda3/lib/python3.11/site-packages (from aiohttp->openai) (6.0.2)\n",
      "Requirement already satisfied: async-timeout<5.0,>=4.0.0a3 in /Users/saideepthimakineni/anaconda3/lib/python3.11/site-packages (from aiohttp->openai) (4.0.2)\n",
      "Requirement already satisfied: yarl<2.0,>=1.0 in /Users/saideepthimakineni/anaconda3/lib/python3.11/site-packages (from aiohttp->openai) (1.8.1)\n",
      "Requirement already satisfied: frozenlist>=1.1.1 in /Users/saideepthimakineni/anaconda3/lib/python3.11/site-packages (from aiohttp->openai) (1.3.3)\n",
      "Requirement already satisfied: aiosignal>=1.1.2 in /Users/saideepthimakineni/anaconda3/lib/python3.11/site-packages (from aiohttp->openai) (1.2.0)\n",
      "Requirement already satisfied: MarkupSafe>=2.0 in /Users/saideepthimakineni/anaconda3/lib/python3.11/site-packages (from jinja2->torch) (2.1.1)\n",
      "Note: you may need to restart the kernel to use updated packages.\n",
      "Requirement already satisfied: openai==0.28 in /Users/saideepthimakineni/anaconda3/lib/python3.11/site-packages (0.28.0)\n",
      "Requirement already satisfied: requests>=2.20 in /Users/saideepthimakineni/anaconda3/lib/python3.11/site-packages (from openai==0.28) (2.31.0)\n",
      "Requirement already satisfied: tqdm in /Users/saideepthimakineni/anaconda3/lib/python3.11/site-packages (from openai==0.28) (4.65.0)\n",
      "Requirement already satisfied: aiohttp in /Users/saideepthimakineni/anaconda3/lib/python3.11/site-packages (from openai==0.28) (3.8.5)\n",
      "Requirement already satisfied: charset-normalizer<4,>=2 in /Users/saideepthimakineni/anaconda3/lib/python3.11/site-packages (from requests>=2.20->openai==0.28) (2.0.4)\n",
      "Requirement already satisfied: idna<4,>=2.5 in /Users/saideepthimakineni/anaconda3/lib/python3.11/site-packages (from requests>=2.20->openai==0.28) (3.4)\n",
      "Requirement already satisfied: urllib3<3,>=1.21.1 in /Users/saideepthimakineni/anaconda3/lib/python3.11/site-packages (from requests>=2.20->openai==0.28) (1.26.16)\n",
      "Requirement already satisfied: certifi>=2017.4.17 in /Users/saideepthimakineni/anaconda3/lib/python3.11/site-packages (from requests>=2.20->openai==0.28) (2024.12.14)\n",
      "Requirement already satisfied: attrs>=17.3.0 in /Users/saideepthimakineni/anaconda3/lib/python3.11/site-packages (from aiohttp->openai==0.28) (22.1.0)\n",
      "Requirement already satisfied: multidict<7.0,>=4.5 in /Users/saideepthimakineni/anaconda3/lib/python3.11/site-packages (from aiohttp->openai==0.28) (6.0.2)\n",
      "Requirement already satisfied: async-timeout<5.0,>=4.0.0a3 in /Users/saideepthimakineni/anaconda3/lib/python3.11/site-packages (from aiohttp->openai==0.28) (4.0.2)\n",
      "Requirement already satisfied: yarl<2.0,>=1.0 in /Users/saideepthimakineni/anaconda3/lib/python3.11/site-packages (from aiohttp->openai==0.28) (1.8.1)\n",
      "Requirement already satisfied: frozenlist>=1.1.1 in /Users/saideepthimakineni/anaconda3/lib/python3.11/site-packages (from aiohttp->openai==0.28) (1.3.3)\n",
      "Requirement already satisfied: aiosignal>=1.1.2 in /Users/saideepthimakineni/anaconda3/lib/python3.11/site-packages (from aiohttp->openai==0.28) (1.2.0)\n",
      "Note: you may need to restart the kernel to use updated packages.\n"
     ]
    }
   ],
   "source": [
    "%pip install openai transformers torch sentencepiece\n",
    "%pip install openai==0.28\n"
   ]
  },
  {
   "cell_type": "code",
   "execution_count": 2,
   "metadata": {},
   "outputs": [
    {
     "name": "stdout",
     "output_type": "stream",
     "text": [
      "Requirement already satisfied: tokenizers in /Users/saideepthimakineni/anaconda3/lib/python3.11/site-packages (0.13.3)\n",
      "Collecting tokenizers\n",
      "  Obtaining dependency information for tokenizers from https://files.pythonhosted.org/packages/ae/1a/4526797f3719b0287853f12c5ad563a9be09d446c44ac784cdd7c50f76ab/tokenizers-0.21.1-cp39-abi3-macosx_11_0_arm64.whl.metadata\n",
      "  Using cached tokenizers-0.21.1-cp39-abi3-macosx_11_0_arm64.whl.metadata (6.8 kB)\n",
      "Requirement already satisfied: huggingface-hub<1.0,>=0.16.4 in /Users/saideepthimakineni/anaconda3/lib/python3.11/site-packages (from tokenizers) (0.29.3)\n",
      "Requirement already satisfied: filelock in /Users/saideepthimakineni/anaconda3/lib/python3.11/site-packages (from huggingface-hub<1.0,>=0.16.4->tokenizers) (3.14.0)\n",
      "Requirement already satisfied: fsspec>=2023.5.0 in /Users/saideepthimakineni/anaconda3/lib/python3.11/site-packages (from huggingface-hub<1.0,>=0.16.4->tokenizers) (2025.3.0)\n",
      "Requirement already satisfied: packaging>=20.9 in /Users/saideepthimakineni/anaconda3/lib/python3.11/site-packages (from huggingface-hub<1.0,>=0.16.4->tokenizers) (23.1)\n",
      "Requirement already satisfied: pyyaml>=5.1 in /Users/saideepthimakineni/anaconda3/lib/python3.11/site-packages (from huggingface-hub<1.0,>=0.16.4->tokenizers) (6.0)\n",
      "Requirement already satisfied: requests in /Users/saideepthimakineni/anaconda3/lib/python3.11/site-packages (from huggingface-hub<1.0,>=0.16.4->tokenizers) (2.31.0)\n",
      "Requirement already satisfied: tqdm>=4.42.1 in /Users/saideepthimakineni/anaconda3/lib/python3.11/site-packages (from huggingface-hub<1.0,>=0.16.4->tokenizers) (4.65.0)\n",
      "Requirement already satisfied: typing-extensions>=3.7.4.3 in /Users/saideepthimakineni/anaconda3/lib/python3.11/site-packages (from huggingface-hub<1.0,>=0.16.4->tokenizers) (4.12.2)\n",
      "Requirement already satisfied: charset-normalizer<4,>=2 in /Users/saideepthimakineni/anaconda3/lib/python3.11/site-packages (from requests->huggingface-hub<1.0,>=0.16.4->tokenizers) (2.0.4)\n",
      "Requirement already satisfied: idna<4,>=2.5 in /Users/saideepthimakineni/anaconda3/lib/python3.11/site-packages (from requests->huggingface-hub<1.0,>=0.16.4->tokenizers) (3.4)\n",
      "Requirement already satisfied: urllib3<3,>=1.21.1 in /Users/saideepthimakineni/anaconda3/lib/python3.11/site-packages (from requests->huggingface-hub<1.0,>=0.16.4->tokenizers) (1.26.16)\n",
      "Requirement already satisfied: certifi>=2017.4.17 in /Users/saideepthimakineni/anaconda3/lib/python3.11/site-packages (from requests->huggingface-hub<1.0,>=0.16.4->tokenizers) (2024.12.14)\n",
      "Using cached tokenizers-0.21.1-cp39-abi3-macosx_11_0_arm64.whl (2.7 MB)\n",
      "Installing collected packages: tokenizers\n",
      "  Attempting uninstall: tokenizers\n",
      "    Found existing installation: tokenizers 0.13.3\n",
      "    Uninstalling tokenizers-0.13.3:\n",
      "      Successfully uninstalled tokenizers-0.13.3\n",
      "\u001b[31mERROR: pip's dependency resolver does not currently take into account all the packages that are installed. This behaviour is the source of the following dependency conflicts.\n",
      "transformers 4.32.1 requires tokenizers!=0.11.3,<0.14,>=0.11.1, but you have tokenizers 0.21.1 which is incompatible.\u001b[0m\u001b[31m\n",
      "\u001b[0mSuccessfully installed tokenizers-0.21.1\n",
      "Note: you may need to restart the kernel to use updated packages.\n",
      "Collecting tokenizers==0.13.3\n",
      "  Obtaining dependency information for tokenizers==0.13.3 from https://files.pythonhosted.org/packages/0c/e0/f51b2d52fcc2c64e0b81da0a1c68d57b3859212143dbc64b0d175ed78693/tokenizers-0.13.3-cp311-cp311-macosx_12_0_arm64.whl.metadata\n",
      "  Using cached tokenizers-0.13.3-cp311-cp311-macosx_12_0_arm64.whl.metadata (6.7 kB)\n",
      "Using cached tokenizers-0.13.3-cp311-cp311-macosx_12_0_arm64.whl (3.9 MB)\n",
      "Installing collected packages: tokenizers\n",
      "  Attempting uninstall: tokenizers\n",
      "    Found existing installation: tokenizers 0.21.1\n",
      "    Uninstalling tokenizers-0.21.1:\n",
      "      Successfully uninstalled tokenizers-0.21.1\n",
      "Successfully installed tokenizers-0.13.3\n",
      "Note: you may need to restart the kernel to use updated packages.\n"
     ]
    }
   ],
   "source": [
    "%pip install --upgrade tokenizers\n",
    "%pip install tokenizers==0.13.3\n"
   ]
  },
  {
   "cell_type": "code",
   "execution_count": 3,
   "metadata": {},
   "outputs": [
    {
     "name": "stderr",
     "output_type": "stream",
     "text": [
      "/Users/saideepthimakineni/anaconda3/lib/python3.11/site-packages/torch/utils/_pytree.py:185: FutureWarning: optree is installed but the version is too old to support PyTorch Dynamo in C++ pytree. C++ pytree support is disabled. Please consider upgrading optree using `python3 -m pip install --upgrade 'optree>=0.13.0'`.\n",
      "  warnings.warn(\n",
      "/Users/saideepthimakineni/anaconda3/lib/python3.11/site-packages/transformers/utils/generic.py:260: FutureWarning: `torch.utils._pytree._register_pytree_node` is deprecated. Please use `torch.utils._pytree.register_pytree_node` instead.\n",
      "  torch.utils._pytree._register_pytree_node(\n",
      "/Users/saideepthimakineni/anaconda3/lib/python3.11/site-packages/huggingface_hub/file_download.py:797: FutureWarning: `resume_download` is deprecated and will be removed in version 1.0.0. Downloads always resume when possible. If you want to force a new download, use `force_download=True`.\n",
      "  warnings.warn(\n"
     ]
    },
    {
     "name": "stdout",
     "output_type": "stream",
     "text": [
      "Extractive Summary:\n",
      " Emma always dreamed of seeing the world beyond her small coastal village. Her father, a fisherman, told tales of distant lands filled with vibrant markets, bustling streets, and people speaking languages she'd never heard. With courage in her heart and a map drawn from her father's stories, she sailed out, leaving the comfort of familiarity behind.\n"
     ]
    }
   ],
   "source": [
    "from transformers import pipeline\n",
    "\n",
    "summarizer_extractive = pipeline(\"summarization\", model=\"facebook/bart-large-cnn\")\n",
    "\n",
    "def summarize_extractive(text, max_length=150):\n",
    "    summary = summarizer_extractive(text, max_length=max_length, min_length=50, do_sample=False)\n",
    "    return summary[0]['summary_text']\n",
    "\n",
    "# Example usage:\n",
    "with open(\"article.txt\", \"r\") as file:\n",
    "    text = file.read()\n",
    "\n",
    "print(\"Extractive Summary:\\n\", summarize_extractive(text))"
   ]
  },
  {
   "cell_type": "code",
   "execution_count": 4,
   "metadata": {},
   "outputs": [
    {
     "name": "stdout",
     "output_type": "stream",
     "text": [
      "OpenAI Abstractive Summary:\n",
      " Emma, a girl from a small coastal village, dreams of exploring the world beyond. She discovers an old boat, repairs it, and sets sail, following her father's stories. After facing challenges at sea, she arrives at a bustling city, ready for adventure.\n"
     ]
    }
   ],
   "source": [
    "import openai\n",
    "import os\n",
    "from dotenv import load_dotenv\n",
    "\n",
    "load_dotenv()\n",
    "\n",
    "openai.api_key = os.getenv(\"OPENAI_API_KEY\")\n",
    "\n",
    "def summarize_abstractive_openai(text, max_tokens=150):\n",
    "    prompt = f\"Summarize this article concisely:\\n\\n{text}\\n\\nSummary:\"\n",
    "    response = openai.ChatCompletion.create(\n",
    "        model=\"gpt-3.5-turbo\",\n",
    "        messages=[{\"role\": \"user\", \"content\": prompt}],\n",
    "        temperature=0.3,\n",
    "        max_tokens=max_tokens\n",
    "    )\n",
    "    return response.choices[0].message.content.strip()\n",
    "\n",
    "# Example usage:\n",
    "with open(\"article.txt\", \"r\") as file:\n",
    "    text = file.read()\n",
    "\n",
    "print(\"OpenAI Abstractive Summary:\\n\", summarize_abstractive_openai(text))"
   ]
  },
  {
   "cell_type": "code",
   "execution_count": 5,
   "metadata": {},
   "outputs": [],
   "source": [
    "import os\n",
    "from huggingface_hub import login\n",
    "from dotenv import load_dotenv\n",
    "\n",
    "load_dotenv()\n",
    "API_TOKEN = os.getenv(\"HF_API_TOKEN\")\n",
    "\n",
    "login(API_TOKEN)"
   ]
  },
  {
   "cell_type": "code",
   "execution_count": 6,
   "metadata": {},
   "outputs": [
    {
     "name": "stdout",
     "output_type": "stream",
     "text": [
      "Mistral Summary:\n",
      " Emma, a young woman from a small coastal village, dreamed of traveling the world beyond her home. Inspired by her father's tales of vibrant markets and bustling streets, she discovered an abandoned boat and spent weeks repairing it. With determination and the map from her father's stories, she set sail, facing challenges and leaving her comfort zone behind. After weeks at sea, she reached a bustling city, fulfilling her dreams and ready for new adventures.\n"
     ]
    }
   ],
   "source": [
    "import os\n",
    "from dotenv import load_dotenv\n",
    "import requests\n",
    "\n",
    "load_dotenv()\n",
    "\n",
    "API_URL = \"https://api-inference.huggingface.co/models/mistralai/Mistral-7B-Instruct-v0.2\"\n",
    "headers = {\"Authorization\": f\"Bearer {os.getenv('HF_API_TOKEN')}\"}\n",
    "\n",
    "def summarize_mistral_api(article, max_tokens=150):\n",
    "    prompt = f\"<s>[INST] Summarize this article concisely:\\n\\n{article}\\n[/INST]\"\n",
    "    response = requests.post(\n",
    "        API_URL, headers=headers, json={\n",
    "            \"inputs\": prompt,\n",
    "            \"parameters\": {\n",
    "                \"max_new_tokens\": max_tokens,\n",
    "                \"return_full_text\": False,\n",
    "            },\n",
    "            \"options\": {\"wait_for_model\": True}\n",
    "        }\n",
    "    )\n",
    "    response.raise_for_status()\n",
    "    return response.json()[0]['generated_text'].strip()\n",
    "\n",
    "with open(\"article.txt\", \"r\") as file:\n",
    "    text = file.read()\n",
    "\n",
    "summary = summarize_mistral_api(text)\n",
    "print(\"Mistral Summary:\\n\", summary)"
   ]
  },
  {
   "cell_type": "code",
   "execution_count": 7,
   "metadata": {},
   "outputs": [
    {
     "name": "stderr",
     "output_type": "stream",
     "text": [
      "Your max_length is set to 250, but your input_length is only 218. Since this is a summarization task, where outputs shorter than the input are typically wanted, you might consider decreasing max_length manually, e.g. summarizer('...', max_length=109)\n"
     ]
    },
    {
     "name": "stdout",
     "output_type": "stream",
     "text": [
      "Combined Summary:\n",
      " Emma leaves her small coastal village to explore distant lands after being inspired by her father's tales of vibrant markets and bustling streets.\n"
     ]
    }
   ],
   "source": [
    "def combined_summary(text):\n",
    "    extracted_summary = summarize_extractive(text, max_length=250)\n",
    "    abstractive_summary = summarize_abstractive_openai(extracted_summary, max_tokens=150)\n",
    "    return abstractive_summary\n",
    "\n",
    "# Example usage:\n",
    "print(\"Combined Summary:\\n\", combined_summary(text))"
   ]
  },
  {
   "cell_type": "code",
   "execution_count": 8,
   "metadata": {},
   "outputs": [
    {
     "name": "stdout",
     "output_type": "stream",
     "text": [
      "huggingface/tokenizers: The current process just got forked, after parallelism has already been used. Disabling parallelism to avoid deadlocks...\n",
      "To disable this warning, you can either:\n",
      "\t- Avoid using `tokenizers` before the fork if possible\n",
      "\t- Explicitly set the environment variable TOKENIZERS_PARALLELISM=(true | false)\n",
      "Requirement already satisfied: evaluate in /Users/saideepthimakineni/anaconda3/lib/python3.11/site-packages (0.4.3)\n",
      "Requirement already satisfied: rouge-score in /Users/saideepthimakineni/anaconda3/lib/python3.11/site-packages (0.1.2)\n",
      "Requirement already satisfied: datasets>=2.0.0 in /Users/saideepthimakineni/anaconda3/lib/python3.11/site-packages (from evaluate) (2.12.0)\n",
      "Requirement already satisfied: numpy>=1.17 in /Users/saideepthimakineni/anaconda3/lib/python3.11/site-packages (from evaluate) (1.24.3)\n",
      "Requirement already satisfied: dill in /Users/saideepthimakineni/anaconda3/lib/python3.11/site-packages (from evaluate) (0.3.6)\n",
      "Requirement already satisfied: pandas in /Users/saideepthimakineni/anaconda3/lib/python3.11/site-packages (from evaluate) (2.0.3)\n",
      "Requirement already satisfied: requests>=2.19.0 in /Users/saideepthimakineni/anaconda3/lib/python3.11/site-packages (from evaluate) (2.31.0)\n",
      "Requirement already satisfied: tqdm>=4.62.1 in /Users/saideepthimakineni/anaconda3/lib/python3.11/site-packages (from evaluate) (4.65.0)\n",
      "Requirement already satisfied: xxhash in /Users/saideepthimakineni/anaconda3/lib/python3.11/site-packages (from evaluate) (2.0.2)\n",
      "Requirement already satisfied: multiprocess in /Users/saideepthimakineni/anaconda3/lib/python3.11/site-packages (from evaluate) (0.70.14)\n",
      "Requirement already satisfied: fsspec[http]>=2021.05.0 in /Users/saideepthimakineni/anaconda3/lib/python3.11/site-packages (from evaluate) (2025.3.0)\n",
      "Requirement already satisfied: huggingface-hub>=0.7.0 in /Users/saideepthimakineni/anaconda3/lib/python3.11/site-packages (from evaluate) (0.29.3)\n",
      "Requirement already satisfied: packaging in /Users/saideepthimakineni/anaconda3/lib/python3.11/site-packages (from evaluate) (23.1)\n",
      "Requirement already satisfied: absl-py in /Users/saideepthimakineni/anaconda3/lib/python3.11/site-packages (from rouge-score) (2.1.0)\n",
      "Requirement already satisfied: nltk in /Users/saideepthimakineni/anaconda3/lib/python3.11/site-packages (from rouge-score) (3.8.1)\n",
      "Requirement already satisfied: six>=1.14.0 in /Users/saideepthimakineni/anaconda3/lib/python3.11/site-packages (from rouge-score) (1.16.0)\n",
      "Requirement already satisfied: pyarrow>=8.0.0 in /Users/saideepthimakineni/anaconda3/lib/python3.11/site-packages (from datasets>=2.0.0->evaluate) (11.0.0)\n",
      "Requirement already satisfied: aiohttp in /Users/saideepthimakineni/anaconda3/lib/python3.11/site-packages (from datasets>=2.0.0->evaluate) (3.8.5)\n",
      "Requirement already satisfied: responses<0.19 in /Users/saideepthimakineni/anaconda3/lib/python3.11/site-packages (from datasets>=2.0.0->evaluate) (0.13.3)\n",
      "Requirement already satisfied: pyyaml>=5.1 in /Users/saideepthimakineni/anaconda3/lib/python3.11/site-packages (from datasets>=2.0.0->evaluate) (6.0)\n",
      "Requirement already satisfied: filelock in /Users/saideepthimakineni/anaconda3/lib/python3.11/site-packages (from huggingface-hub>=0.7.0->evaluate) (3.14.0)\n",
      "Requirement already satisfied: typing-extensions>=3.7.4.3 in /Users/saideepthimakineni/anaconda3/lib/python3.11/site-packages (from huggingface-hub>=0.7.0->evaluate) (4.12.2)\n",
      "Requirement already satisfied: charset-normalizer<4,>=2 in /Users/saideepthimakineni/anaconda3/lib/python3.11/site-packages (from requests>=2.19.0->evaluate) (2.0.4)\n",
      "Requirement already satisfied: idna<4,>=2.5 in /Users/saideepthimakineni/anaconda3/lib/python3.11/site-packages (from requests>=2.19.0->evaluate) (3.4)\n",
      "Requirement already satisfied: urllib3<3,>=1.21.1 in /Users/saideepthimakineni/anaconda3/lib/python3.11/site-packages (from requests>=2.19.0->evaluate) (1.26.16)\n",
      "Requirement already satisfied: certifi>=2017.4.17 in /Users/saideepthimakineni/anaconda3/lib/python3.11/site-packages (from requests>=2.19.0->evaluate) (2024.12.14)\n",
      "Requirement already satisfied: click in /Users/saideepthimakineni/anaconda3/lib/python3.11/site-packages (from nltk->rouge-score) (8.0.4)\n",
      "Requirement already satisfied: joblib in /Users/saideepthimakineni/anaconda3/lib/python3.11/site-packages (from nltk->rouge-score) (1.2.0)\n",
      "Requirement already satisfied: regex>=2021.8.3 in /Users/saideepthimakineni/anaconda3/lib/python3.11/site-packages (from nltk->rouge-score) (2022.7.9)\n",
      "Requirement already satisfied: python-dateutil>=2.8.2 in /Users/saideepthimakineni/anaconda3/lib/python3.11/site-packages (from pandas->evaluate) (2.8.2)\n",
      "Requirement already satisfied: pytz>=2020.1 in /Users/saideepthimakineni/anaconda3/lib/python3.11/site-packages (from pandas->evaluate) (2023.3.post1)\n",
      "Requirement already satisfied: tzdata>=2022.1 in /Users/saideepthimakineni/anaconda3/lib/python3.11/site-packages (from pandas->evaluate) (2023.3)\n",
      "Requirement already satisfied: attrs>=17.3.0 in /Users/saideepthimakineni/anaconda3/lib/python3.11/site-packages (from aiohttp->datasets>=2.0.0->evaluate) (22.1.0)\n",
      "Requirement already satisfied: multidict<7.0,>=4.5 in /Users/saideepthimakineni/anaconda3/lib/python3.11/site-packages (from aiohttp->datasets>=2.0.0->evaluate) (6.0.2)\n",
      "Requirement already satisfied: async-timeout<5.0,>=4.0.0a3 in /Users/saideepthimakineni/anaconda3/lib/python3.11/site-packages (from aiohttp->datasets>=2.0.0->evaluate) (4.0.2)\n",
      "Requirement already satisfied: yarl<2.0,>=1.0 in /Users/saideepthimakineni/anaconda3/lib/python3.11/site-packages (from aiohttp->datasets>=2.0.0->evaluate) (1.8.1)\n",
      "Requirement already satisfied: frozenlist>=1.1.1 in /Users/saideepthimakineni/anaconda3/lib/python3.11/site-packages (from aiohttp->datasets>=2.0.0->evaluate) (1.3.3)\n",
      "Requirement already satisfied: aiosignal>=1.1.2 in /Users/saideepthimakineni/anaconda3/lib/python3.11/site-packages (from aiohttp->datasets>=2.0.0->evaluate) (1.2.0)\n",
      "Note: you may need to restart the kernel to use updated packages.\n"
     ]
    }
   ],
   "source": [
    "%pip install evaluate rouge-score"
   ]
  },
  {
   "cell_type": "code",
   "execution_count": 9,
   "metadata": {},
   "outputs": [
    {
     "name": "stdout",
     "output_type": "stream",
     "text": [
      "ROUGE-1 Precision: 0.25\n",
      "ROUGE-1 Recall: 0.76\n",
      "ROUGE-1 F1 Score: 0.37\n",
      "\n",
      "ROUGE-L Precision: 0.19\n",
      "ROUGE-L Recall: 0.60\n",
      "ROUGE-L F1 Score: 0.29\n"
     ]
    }
   ],
   "source": [
    "from rouge_score import rouge_scorer\n",
    "\n",
    "reference_summary = \"Emma dreamed of exploring beyond her village, repaired an old boat, sailed through challenges, and finally reached an exciting new city, fulfilling her adventurous dreams.\"\n",
    "\n",
    "generated_summary = summary  # Your Mistral generated summary from your previous code.\n",
    "\n",
    "scorer = rouge_scorer.RougeScorer(['rouge1', 'rougeL'], use_stemmer=True)\n",
    "scores = scorer.score(reference_summary, generated_summary)\n",
    "\n",
    "print(f\"ROUGE-1 Precision: {scores['rouge1'].precision:.2f}\")\n",
    "print(f\"ROUGE-1 Recall: {scores['rouge1'].recall:.2f}\")\n",
    "print(f\"ROUGE-1 F1 Score: {scores['rouge1'].fmeasure:.2f}\\n\")\n",
    "\n",
    "print(f\"ROUGE-L Precision: {scores['rougeL'].precision:.2f}\")\n",
    "print(f\"ROUGE-L Recall: {scores['rougeL'].recall:.2f}\")\n",
    "print(f\"ROUGE-L F1 Score: {scores['rougeL'].fmeasure:.2f}\")"
   ]
  }
 ],
 "metadata": {
  "kernelspec": {
   "display_name": "base",
   "language": "python",
   "name": "python3"
  },
  "language_info": {
   "codemirror_mode": {
    "name": "ipython",
    "version": 3
   },
   "file_extension": ".py",
   "mimetype": "text/x-python",
   "name": "python",
   "nbconvert_exporter": "python",
   "pygments_lexer": "ipython3",
   "version": "3.11.5"
  }
 },
 "nbformat": 4,
 "nbformat_minor": 2
}
